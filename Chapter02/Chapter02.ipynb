{
 "cells": [
  {
   "cell_type": "code",
   "execution_count": 14,
   "metadata": {},
   "outputs": [],
   "source": [
    "import torch\n",
    "import torch.nn as nn\n",
    "import torch.nn.functional as F\n",
    "class MyNeuralNet(nn.Module):\n",
    "    def __init__(self, input_size, n_nodes, output_size):\n",
    "        super(MyNeuralNet, self).__init__()\n",
    "        self.operationOne = nn.Linear(input_size, n_nodes)\n",
    "        self.operationTwo = nn.Linear(n_nodes, output_size)\n",
    "    def forward(self, x):\n",
    "        x = F.relu(self.operationOne(x))\n",
    "        x = self.operationTwo(x)\n",
    "        x = F.sigmoid(x)\n",
    "        return x"
   ]
  },
  {
   "cell_type": "code",
   "execution_count": 15,
   "metadata": {},
   "outputs": [],
   "source": [
    "my_network = MyNeuralNet(input_size = 3, n_nodes = 2, output_size = 1)"
   ]
  },
  {
   "cell_type": "markdown",
   "metadata": {},
   "source": [
    "Understanding Tensors"
   ]
  },
  {
   "cell_type": "code",
   "execution_count": 7,
   "metadata": {},
   "outputs": [
    {
     "output_type": "stream",
     "name": "stdout",
     "text": [
      "tensor([1, 2, 3])\n"
     ]
    }
   ],
   "source": [
    "import torch\n",
    "first_order_tensor = torch.tensor([1, 2, 3])\n",
    "print(first_order_tensor)"
   ]
  },
  {
   "cell_type": "code",
   "execution_count": 15,
   "metadata": {},
   "outputs": [
    {
     "name": "stdout",
     "output_type": "stream",
     "text": [
      "tensor(1)\n"
     ]
    }
   ],
   "source": [
    "print(first_order_tensor[0])"
   ]
  },
  {
   "cell_type": "code",
   "execution_count": 16,
   "metadata": {},
   "outputs": [
    {
     "name": "stdout",
     "output_type": "stream",
     "text": [
      "tensor([1, 2])\n"
     ]
    }
   ],
   "source": [
    "print(first_order_tensor[0:2])"
   ]
  },
  {
   "cell_type": "code",
   "execution_count": 17,
   "metadata": {},
   "outputs": [
    {
     "name": "stdout",
     "output_type": "stream",
     "text": [
      "tensor([2, 3])\n"
     ]
    }
   ],
   "source": [
    "print(first_order_tensor[1:])"
   ]
  },
  {
   "cell_type": "code",
   "execution_count": 18,
   "metadata": {},
   "outputs": [
    {
     "name": "stdout",
     "output_type": "stream",
     "text": [
      "tensor([[11, 22, 33],\n",
      "        [21, 22, 23]])\n"
     ]
    }
   ],
   "source": [
    "second_order_tensor = torch.tensor([ [ 11, 22, 33 ],\n",
    " [ 21, 22, 23 ]\n",
    " ])\n",
    "print(second_order_tensor)"
   ]
  },
  {
   "cell_type": "code",
   "execution_count": 20,
   "metadata": {},
   "outputs": [
    {
     "name": "stdout",
     "output_type": "stream",
     "text": [
      "tensor(22)\n"
     ]
    }
   ],
   "source": [
    "print(second_order_tensor[0, 1])"
   ]
  },
  {
   "cell_type": "code",
   "execution_count": 21,
   "metadata": {},
   "outputs": [],
   "source": [
    "fourth_order_tensor = torch.tensor(\n",
    "[\n",
    " [\n",
    " [\n",
    " [1111, 1112],\n",
    " [1121, 1122]\n",
    " ],\n",
    " [\n",
    " [1211, 1212],\n",
    " [1221, 1222]\n",
    " ]\n",
    " ],\n",
    " [\n",
    " [\n",
    " [2111, 2112],\n",
    " [2121, 2122]\n",
    " ],\n",
    " [\n",
    " [2211, 2212],\n",
    " [2221, 2222]\n",
    " ]\n",
    " ]\n",
    "])\n"
   ]
  },
  {
   "cell_type": "code",
   "execution_count": 22,
   "metadata": {},
   "outputs": [
    {
     "name": "stdout",
     "output_type": "stream",
     "text": [
      "torch.Size([5])\n"
     ]
    }
   ],
   "source": [
    "my_tensor = torch.tensor([1, 2, 3, 4, 5])\n",
    "print(my_tensor.size())"
   ]
  },
  {
   "cell_type": "code",
   "execution_count": 23,
   "metadata": {},
   "outputs": [
    {
     "name": "stdout",
     "output_type": "stream",
     "text": [
      "torch.Size([2, 3])\n"
     ]
    }
   ],
   "source": [
    "my_tensor = torch.tensor([[11, 12, 13], [21, 22, 23]])\n",
    "print(my_tensor.size())"
   ]
  },
  {
   "cell_type": "code",
   "execution_count": 24,
   "metadata": {},
   "outputs": [
    {
     "name": "stdout",
     "output_type": "stream",
     "text": [
      "torch.Size([2, 2, 2, 2])\n"
     ]
    }
   ],
   "source": [
    "print(fourth_order_tensor.size())"
   ]
  },
  {
   "cell_type": "code",
   "execution_count": 25,
   "metadata": {},
   "outputs": [
    {
     "name": "stdout",
     "output_type": "stream",
     "text": [
      "tensor([[0.8849, 0.2496],\n",
      "        [0.0906, 0.8850],\n",
      "        [0.3370, 0.4994],\n",
      "        [0.2537, 0.1573]])\n"
     ]
    }
   ],
   "source": [
    "random_tensor = torch.rand([4, 2])\n",
    "print(random_tensor)"
   ]
  },
  {
   "cell_type": "code",
   "execution_count": 26,
   "metadata": {},
   "outputs": [
    {
     "data": {
      "text/plain": [
       "tensor([[0.8849, 0.2496, 0.0906, 0.8850],\n",
       "        [0.3370, 0.4994, 0.2537, 0.1573]])"
      ]
     },
     "execution_count": 26,
     "metadata": {},
     "output_type": "execute_result"
    }
   ],
   "source": [
    "random_tensor.view([2, 4])"
   ]
  },
  {
   "cell_type": "code",
   "execution_count": 27,
   "metadata": {},
   "outputs": [
    {
     "data": {
      "text/plain": [
       "tensor([[[0.0420, 0.2747, 0.9238, 0.6606],\n",
       "         [0.8135, 0.1987, 0.3658, 0.7605],\n",
       "         [0.1217, 0.5256, 0.4733, 0.1900],\n",
       "         [0.7616, 0.0601, 0.1716, 0.6475]],\n",
       "\n",
       "        [[0.4079, 0.0604, 0.9344, 0.1486],\n",
       "         [0.8861, 0.7199, 0.5216, 0.0384],\n",
       "         [0.9297, 0.8486, 0.2294, 0.3931],\n",
       "         [0.7904, 0.9229, 0.3076, 0.5926]]])"
      ]
     },
     "execution_count": 27,
     "metadata": {},
     "output_type": "execute_result"
    }
   ],
   "source": [
    "random_tensor = torch.rand([4, 2, 4])\n",
    "random_tensor.view([2, 4, -1])"
   ]
  },
  {
   "cell_type": "code",
   "execution_count": 28,
   "metadata": {},
   "outputs": [
    {
     "data": {
      "text/plain": [
       "tensor([[[0.0420, 0.2747, 0.9238, 0.6606],\n",
       "         [0.8135, 0.1987, 0.3658, 0.7605],\n",
       "         [0.1217, 0.5256, 0.4733, 0.1900],\n",
       "         [0.7616, 0.0601, 0.1716, 0.6475]],\n",
       "\n",
       "        [[0.4079, 0.0604, 0.9344, 0.1486],\n",
       "         [0.8861, 0.7199, 0.5216, 0.0384],\n",
       "         [0.9297, 0.8486, 0.2294, 0.3931],\n",
       "         [0.7904, 0.9229, 0.3076, 0.5926]]])"
      ]
     },
     "execution_count": 28,
     "metadata": {},
     "output_type": "execute_result"
    }
   ],
   "source": [
    "random_tensor.view([2, -1, 4])"
   ]
  },
  {
   "cell_type": "code",
   "execution_count": 29,
   "metadata": {},
   "outputs": [
    {
     "data": {
      "text/plain": [
       "tensor([8, 5])"
      ]
     },
     "execution_count": 29,
     "metadata": {},
     "output_type": "execute_result"
    }
   ],
   "source": [
    "x = torch.tensor([5, 3])\n",
    "y = torch.tensor([3, 2])\n",
    "torch.add(x, y)"
   ]
  },
  {
   "cell_type": "code",
   "execution_count": 30,
   "metadata": {},
   "outputs": [
    {
     "data": {
      "text/plain": [
       "tensor([2, 1])"
      ]
     },
     "execution_count": 30,
     "metadata": {},
     "output_type": "execute_result"
    }
   ],
   "source": [
    "torch.sub(x, y)"
   ]
  },
  {
   "cell_type": "code",
   "execution_count": 32,
   "metadata": {},
   "outputs": [
    {
     "data": {
      "text/plain": [
       "tensor([15,  6])"
      ]
     },
     "execution_count": 32,
     "metadata": {},
     "output_type": "execute_result"
    }
   ],
   "source": [
    "torch.mul(x, y)"
   ]
  },
  {
   "cell_type": "code",
   "execution_count": 34,
   "metadata": {},
   "outputs": [
    {
     "data": {
      "text/plain": [
       "tensor([8, 5])"
      ]
     },
     "execution_count": 34,
     "metadata": {},
     "output_type": "execute_result"
    }
   ],
   "source": [
    "x + y"
   ]
  },
  {
   "cell_type": "code",
   "execution_count": 35,
   "metadata": {},
   "outputs": [
    {
     "data": {
      "text/plain": [
       "tensor([1, 1])"
      ]
     },
     "execution_count": 35,
     "metadata": {},
     "output_type": "execute_result"
    }
   ],
   "source": [
    "torch.div(x, y)"
   ]
  },
  {
   "cell_type": "code",
   "execution_count": 36,
   "metadata": {},
   "outputs": [
    {
     "data": {
      "text/plain": [
       "torch.int64"
      ]
     },
     "execution_count": 36,
     "metadata": {},
     "output_type": "execute_result"
    }
   ],
   "source": [
    "x.dtype"
   ]
  },
  {
   "cell_type": "code",
   "execution_count": 37,
   "metadata": {},
   "outputs": [
    {
     "data": {
      "text/plain": [
       "torch.int64"
      ]
     },
     "execution_count": 37,
     "metadata": {},
     "output_type": "execute_result"
    }
   ],
   "source": [
    "y.dtype"
   ]
  },
  {
   "cell_type": "code",
   "execution_count": 38,
   "metadata": {},
   "outputs": [
    {
     "name": "stdout",
     "output_type": "stream",
     "text": [
      "tensor([1.6667, 1.5000])\n"
     ]
    }
   ],
   "source": [
    "x_float = torch.tensor([5, 3], dtype = torch.float32)\n",
    "y_float = torch.tensor([3, 2], dtype = torch.float32)\n",
    "print(x_float / y_float)"
   ]
  },
  {
   "cell_type": "code",
   "execution_count": 39,
   "metadata": {},
   "outputs": [
    {
     "data": {
      "text/plain": [
       "tensor([5., 3.])"
      ]
     },
     "execution_count": 39,
     "metadata": {},
     "output_type": "execute_result"
    }
   ],
   "source": [
    "torch.FloatTensor([5, 3])"
   ]
  },
  {
   "cell_type": "code",
   "execution_count": 40,
   "metadata": {},
   "outputs": [
    {
     "data": {
      "text/plain": [
       "tensor([5., 3.], dtype=torch.float64)"
      ]
     },
     "execution_count": 40,
     "metadata": {},
     "output_type": "execute_result"
    }
   ],
   "source": [
    "x.type(torch.DoubleTensor)"
   ]
  },
  {
   "cell_type": "markdown",
   "metadata": {},
   "source": [
    "Importing our dataset as a PyTorch Tensor"
   ]
  },
  {
   "cell_type": "code",
   "execution_count": 5,
   "metadata": {},
   "outputs": [
    {
     "output_type": "stream",
     "name": "stdout",
     "text": [
      "[[  0.   380.     3.61   3.  ]\n [  1.   660.     3.67   3.  ]\n [  1.   800.     4.     1.  ]\n [  1.   640.     3.19   4.  ]\n [  0.   520.     2.93   4.  ]\n [  1.   760.     3.     2.  ]\n [  1.   560.     2.98   1.  ]\n [  0.   400.     3.08   2.  ]\n [  1.   540.     3.39   3.  ]]\n"
     ]
    }
   ],
   "source": [
    "import numpy as np\n",
    "admit_data = np.genfromtxt('admit_status.csv', delimiter = ',', skip_header = 1)\n",
    "print(admit_data)"
   ]
  },
  {
   "cell_type": "code",
   "execution_count": 12,
   "metadata": {},
   "outputs": [
    {
     "output_type": "stream",
     "name": "stdout",
     "text": [
      "tensor([[  0.0000, 380.0000,   3.6100,   3.0000],\n        [  1.0000, 660.0000,   3.6700,   3.0000],\n        [  1.0000, 800.0000,   4.0000,   1.0000],\n        [  1.0000, 640.0000,   3.1900,   4.0000],\n        [  0.0000, 520.0000,   2.9300,   4.0000],\n        [  1.0000, 760.0000,   3.0000,   2.0000],\n        [  1.0000, 560.0000,   2.9800,   1.0000],\n        [  0.0000, 400.0000,   3.0800,   2.0000],\n        [  1.0000, 540.0000,   3.3900,   3.0000]], dtype=torch.float64)\n"
     ]
    }
   ],
   "source": [
    "admit_tensor = torch.from_numpy(admit_data)\n",
    "print(admit_tensor)"
   ]
  },
  {
   "cell_type": "markdown",
   "metadata": {},
   "source": [
    "Training neural networks in PyTorch"
   ]
  },
  {
   "cell_type": "code",
   "execution_count": 13,
   "metadata": {},
   "outputs": [],
   "source": [
    "x_train = admit_tensor[:300, 1:].float()\n",
    "y_train = admit_tensor[:300, 0].float()\n",
    "x_test = admit_tensor[300:, 1:].float()\n",
    "y_test = admit_tensor[300:, 0].float()"
   ]
  },
  {
   "cell_type": "code",
   "execution_count": 16,
   "metadata": {},
   "outputs": [],
   "source": [
    "criterion = nn.BCELoss()"
   ]
  },
  {
   "cell_type": "code",
   "execution_count": 17,
   "metadata": {},
   "outputs": [],
   "source": [
    "optimizer = torch.optim.SGD(my_network.parameters(), lr=0.01)"
   ]
  },
  {
   "cell_type": "code",
   "execution_count": 18,
   "metadata": {},
   "outputs": [
    {
     "output_type": "stream",
     "name": "stdout",
     "text": [
      "epoch:  0 loss:  tensor(0.8205, grad_fn=<BinaryCrossEntropyBackward>)\nepoch:  1 loss:  tensor(0.8196, grad_fn=<BinaryCrossEntropyBackward>)\nepoch:  2 loss:  tensor(0.8187, grad_fn=<BinaryCrossEntropyBackward>)\nepoch:  3 loss:  tensor(0.8179, grad_fn=<BinaryCrossEntropyBackward>)\nepoch:  4 loss:  tensor(0.8170, grad_fn=<BinaryCrossEntropyBackward>)\nepoch:  5 loss:  tensor(0.8161, grad_fn=<BinaryCrossEntropyBackward>)\nepoch:  6 loss:  tensor(0.8152, grad_fn=<BinaryCrossEntropyBackward>)\nepoch:  7 loss:  tensor(0.8143, grad_fn=<BinaryCrossEntropyBackward>)\nepoch:  8 loss:  tensor(0.8135, grad_fn=<BinaryCrossEntropyBackward>)\nepoch:  9 loss:  tensor(0.8126, grad_fn=<BinaryCrossEntropyBackward>)\nepoch:  10 loss:  tensor(0.8118, grad_fn=<BinaryCrossEntropyBackward>)\nepoch:  11 loss:  tensor(0.8109, grad_fn=<BinaryCrossEntropyBackward>)\nepoch:  12 loss:  tensor(0.8100, grad_fn=<BinaryCrossEntropyBackward>)\nepoch:  13 loss:  tensor(0.8092, grad_fn=<BinaryCrossEntropyBackward>)\nepoch:  14 loss:  tensor(0.8084, grad_fn=<BinaryCrossEntropyBackward>)\nepoch:  15 loss:  tensor(0.8075, grad_fn=<BinaryCrossEntropyBackward>)\nepoch:  16 loss:  tensor(0.8067, grad_fn=<BinaryCrossEntropyBackward>)\nepoch:  17 loss:  tensor(0.8059, grad_fn=<BinaryCrossEntropyBackward>)\nepoch:  18 loss:  tensor(0.8050, grad_fn=<BinaryCrossEntropyBackward>)\nepoch:  19 loss:  tensor(0.8042, grad_fn=<BinaryCrossEntropyBackward>)\nepoch:  20 loss:  tensor(0.8034, grad_fn=<BinaryCrossEntropyBackward>)\nepoch:  21 loss:  tensor(0.8026, grad_fn=<BinaryCrossEntropyBackward>)\nepoch:  22 loss:  tensor(0.8018, grad_fn=<BinaryCrossEntropyBackward>)\nepoch:  23 loss:  tensor(0.8009, grad_fn=<BinaryCrossEntropyBackward>)\nepoch:  24 loss:  tensor(0.8001, grad_fn=<BinaryCrossEntropyBackward>)\nepoch:  25 loss:  tensor(0.7993, grad_fn=<BinaryCrossEntropyBackward>)\nepoch:  26 loss:  tensor(0.7985, grad_fn=<BinaryCrossEntropyBackward>)\nepoch:  27 loss:  tensor(0.7977, grad_fn=<BinaryCrossEntropyBackward>)\nepoch:  28 loss:  tensor(0.7970, grad_fn=<BinaryCrossEntropyBackward>)\nepoch:  29 loss:  tensor(0.7962, grad_fn=<BinaryCrossEntropyBackward>)\nepoch:  30 loss:  tensor(0.7954, grad_fn=<BinaryCrossEntropyBackward>)\nepoch:  31 loss:  tensor(0.7946, grad_fn=<BinaryCrossEntropyBackward>)\nepoch:  32 loss:  tensor(0.7938, grad_fn=<BinaryCrossEntropyBackward>)\nepoch:  33 loss:  tensor(0.7931, grad_fn=<BinaryCrossEntropyBackward>)\nepoch:  34 loss:  tensor(0.7923, grad_fn=<BinaryCrossEntropyBackward>)\nepoch:  35 loss:  tensor(0.7915, grad_fn=<BinaryCrossEntropyBackward>)\nepoch:  36 loss:  tensor(0.7908, grad_fn=<BinaryCrossEntropyBackward>)\nepoch:  37 loss:  tensor(0.7900, grad_fn=<BinaryCrossEntropyBackward>)\nepoch:  38 loss:  tensor(0.7893, grad_fn=<BinaryCrossEntropyBackward>)\nepoch:  39 loss:  tensor(0.7885, grad_fn=<BinaryCrossEntropyBackward>)\nepoch:  40 loss:  tensor(0.7878, grad_fn=<BinaryCrossEntropyBackward>)\nepoch:  41 loss:  tensor(0.7870, grad_fn=<BinaryCrossEntropyBackward>)\nepoch:  42 loss:  tensor(0.7863, grad_fn=<BinaryCrossEntropyBackward>)\nepoch:  43 loss:  tensor(0.7856, grad_fn=<BinaryCrossEntropyBackward>)\nepoch:  44 loss:  tensor(0.7848, grad_fn=<BinaryCrossEntropyBackward>)\nepoch:  45 loss:  tensor(0.7841, grad_fn=<BinaryCrossEntropyBackward>)\nepoch:  46 loss:  tensor(0.7834, grad_fn=<BinaryCrossEntropyBackward>)\nepoch:  47 loss:  tensor(0.7827, grad_fn=<BinaryCrossEntropyBackward>)\nepoch:  48 loss:  tensor(0.7819, grad_fn=<BinaryCrossEntropyBackward>)\nepoch:  49 loss:  tensor(0.7812, grad_fn=<BinaryCrossEntropyBackward>)\nepoch:  50 loss:  tensor(0.7805, grad_fn=<BinaryCrossEntropyBackward>)\nepoch:  51 loss:  tensor(0.7798, grad_fn=<BinaryCrossEntropyBackward>)\nepoch:  52 loss:  tensor(0.7791, grad_fn=<BinaryCrossEntropyBackward>)\nepoch:  53 loss:  tensor(0.7784, grad_fn=<BinaryCrossEntropyBackward>)\nepoch:  54 loss:  tensor(0.7777, grad_fn=<BinaryCrossEntropyBackward>)\nepoch:  55 loss:  tensor(0.7770, grad_fn=<BinaryCrossEntropyBackward>)\nepoch:  56 loss:  tensor(0.7763, grad_fn=<BinaryCrossEntropyBackward>)\nepoch:  57 loss:  tensor(0.7756, grad_fn=<BinaryCrossEntropyBackward>)\nepoch:  58 loss:  tensor(0.7749, grad_fn=<BinaryCrossEntropyBackward>)\nepoch:  59 loss:  tensor(0.7743, grad_fn=<BinaryCrossEntropyBackward>)\nepoch:  60 loss:  tensor(0.7736, grad_fn=<BinaryCrossEntropyBackward>)\nepoch:  61 loss:  tensor(0.7729, grad_fn=<BinaryCrossEntropyBackward>)\nepoch:  62 loss:  tensor(0.7722, grad_fn=<BinaryCrossEntropyBackward>)\nepoch:  63 loss:  tensor(0.7716, grad_fn=<BinaryCrossEntropyBackward>)\nepoch:  64 loss:  tensor(0.7709, grad_fn=<BinaryCrossEntropyBackward>)\nepoch:  65 loss:  tensor(0.7703, grad_fn=<BinaryCrossEntropyBackward>)\nepoch:  66 loss:  tensor(0.7696, grad_fn=<BinaryCrossEntropyBackward>)\nepoch:  67 loss:  tensor(0.7689, grad_fn=<BinaryCrossEntropyBackward>)\nepoch:  68 loss:  tensor(0.7683, grad_fn=<BinaryCrossEntropyBackward>)\nepoch:  69 loss:  tensor(0.7676, grad_fn=<BinaryCrossEntropyBackward>)\nepoch:  70 loss:  tensor(0.7670, grad_fn=<BinaryCrossEntropyBackward>)\nepoch:  71 loss:  tensor(0.7664, grad_fn=<BinaryCrossEntropyBackward>)\nepoch:  72 loss:  tensor(0.7657, grad_fn=<BinaryCrossEntropyBackward>)\nepoch:  73 loss:  tensor(0.7651, grad_fn=<BinaryCrossEntropyBackward>)\nepoch:  74 loss:  tensor(0.7644, grad_fn=<BinaryCrossEntropyBackward>)\nepoch:  75 loss:  tensor(0.7638, grad_fn=<BinaryCrossEntropyBackward>)\nepoch:  76 loss:  tensor(0.7632, grad_fn=<BinaryCrossEntropyBackward>)\nepoch:  77 loss:  tensor(0.7626, grad_fn=<BinaryCrossEntropyBackward>)\nepoch:  78 loss:  tensor(0.7619, grad_fn=<BinaryCrossEntropyBackward>)\nepoch:  79 loss:  tensor(0.7613, grad_fn=<BinaryCrossEntropyBackward>)\nepoch:  80 loss:  tensor(0.7607, grad_fn=<BinaryCrossEntropyBackward>)\nepoch:  81 loss:  tensor(0.7601, grad_fn=<BinaryCrossEntropyBackward>)\nepoch:  82 loss:  tensor(0.7595, grad_fn=<BinaryCrossEntropyBackward>)\nepoch:  83 loss:  tensor(0.7589, grad_fn=<BinaryCrossEntropyBackward>)\nepoch:  84 loss:  tensor(0.7583, grad_fn=<BinaryCrossEntropyBackward>)\nepoch:  85 loss:  tensor(0.7577, grad_fn=<BinaryCrossEntropyBackward>)\nepoch:  86 loss:  tensor(0.7571, grad_fn=<BinaryCrossEntropyBackward>)\nepoch:  87 loss:  tensor(0.7565, grad_fn=<BinaryCrossEntropyBackward>)\nepoch:  88 loss:  tensor(0.7559, grad_fn=<BinaryCrossEntropyBackward>)\nepoch:  89 loss:  tensor(0.7553, grad_fn=<BinaryCrossEntropyBackward>)\nepoch:  90 loss:  tensor(0.7547, grad_fn=<BinaryCrossEntropyBackward>)\nepoch:  91 loss:  tensor(0.7541, grad_fn=<BinaryCrossEntropyBackward>)\nepoch:  92 loss:  tensor(0.7536, grad_fn=<BinaryCrossEntropyBackward>)\nepoch:  93 loss:  tensor(0.7530, grad_fn=<BinaryCrossEntropyBackward>)\nepoch:  94 loss:  tensor(0.7524, grad_fn=<BinaryCrossEntropyBackward>)\nepoch:  95 loss:  tensor(0.7518, grad_fn=<BinaryCrossEntropyBackward>)\nepoch:  96 loss:  tensor(0.7513, grad_fn=<BinaryCrossEntropyBackward>)\nepoch:  97 loss:  tensor(0.7507, grad_fn=<BinaryCrossEntropyBackward>)\nepoch:  98 loss:  tensor(0.7501, grad_fn=<BinaryCrossEntropyBackward>)\nepoch:  99 loss:  tensor(0.7496, grad_fn=<BinaryCrossEntropyBackward>)\n"
     ]
    }
   ],
   "source": [
    "for epoch in range(100):\n",
    "    y_pred = my_network(x_train)\n",
    "    loss_score = criterion(y_pred, y_train)\n",
    "    print('epoch: ', epoch, 'loss: ', loss_score)\n",
    "    \n",
    "    optimizer.zero_grad()\n",
    "    loss_score.backward()\n",
    "    optimizer.step()"
   ]
  },
  {
   "cell_type": "code",
   "execution_count": null,
   "metadata": {},
   "outputs": [],
   "source": []
  }
 ],
 "metadata": {
  "kernelspec": {
   "display_name": "Python 3",
   "language": "python",
   "name": "python3"
  },
  "language_info": {
   "codemirror_mode": {
    "name": "ipython",
    "version": 3
   },
   "file_extension": ".py",
   "mimetype": "text/x-python",
   "name": "python",
   "nbconvert_exporter": "python",
   "pygments_lexer": "ipython3",
   "version": "3.6.12-final"
  }
 },
 "nbformat": 4,
 "nbformat_minor": 2
}